{
  "nbformat": 4,
  "nbformat_minor": 0,
  "metadata": {
    "colab": {
      "name": "Assignment_1_2021.ipynb",
      "provenance": [],
      "collapsed_sections": [],
      "include_colab_link": true
    },
    "kernelspec": {
      "name": "python3",
      "display_name": "Python 3"
    },
    "accelerator": "GPU"
  },
  "cells": [
    {
      "cell_type": "markdown",
      "metadata": {
        "id": "view-in-github",
        "colab_type": "text"
      },
      "source": [
        "<a href=\"https://colab.research.google.com/github/lucianistrati/Lab-Homeworks/blob/master/Assignment_1_2021.ipynb\" target=\"_parent\"><img src=\"https://colab.research.google.com/assets/colab-badge.svg\" alt=\"Open In Colab\"/></a>"
      ]
    },
    {
      "cell_type": "markdown",
      "metadata": {
        "id": "zR1ZlT9j0U4p"
      },
      "source": [
        "# Assignment 1: Bucharest Housing Dataset\n",
        "\n",
        "\n",
        "\n"
      ]
    },
    {
      "cell_type": "markdown",
      "metadata": {
        "id": "rfXso_GoZk9u"
      },
      "source": [
        "## Dataset Description\n",
        "In the dataset linked below you have over three thousand apartments listed for sale on the locally popular website *imobiliare.ro*. Each entry provides details about different aspects of the house or apartment:\n",
        "1. `Nr Camere` indicates the number of rooms;\n",
        "2. `Suprafata` specifies the total area of the dwelling;\n",
        "3. `Etaj` specifies the floor that the home is located at;\n",
        "4. `Total Etaje` is the total number of floors of the block of flats;\n",
        "5. `Sector` represents the administrative district of Bucharest in which the apartment is located;\n",
        "6. `Pret` represents the listing price of each dwelling;\n",
        "7. `Scor` represents a rating between 1 and 5 of location of the apartment. It was computed in the following manner by the dataset creator:\n",
        "  1. The initial dataset included the address of each flat;\n",
        "  2. An extra dataset was used, which included the average sales price of dwellings in different areas of town;\n",
        "  3. Using all of these monthly averages, a clusterization algorithm grouped them into 5 classes, which were then labelled 1-5;\n",
        "  4. You can think of these scores as an indication of the value of the surrounding area, with 1 being expensive, and 5 being inexpensive.\n",
        "\n",
        "Dataset Source: [kaggle.com/denisadutca](https://www.kaggle.com/denisadutca/bucharest-house-price-dataset/kernels)\n",
        "\n",
        "\n"
      ]
    },
    {
      "cell_type": "markdown",
      "metadata": {
        "id": "SwVnR01-ZmIE"
      },
      "source": [
        "## To Do\n",
        "\n",
        "To complete this assignment, you must:\n",
        "1. Get the data in a PyTorch-friendly format;\n",
        "2. Predict the `Nr Camere` of each dwelling, treating it as a **classification** problem. Choose an appropriate loss function;\n",
        "3. Predict the `Nr Camere` of each dwelling, treating it as a **regression** problem. Choose an appropriate loss function;\n",
        "4. Compare the results of the two approaches, displaying the Confusion Matrix for the two, as well as any comparing any other metrics you think are interesting (e.g. MSE). Comment on the results;\n",
        "5. Choose to predict a feature more suitable to be treated as a **regression** problem, then successfully solve it.\n",
        "6. What values should the loss have when the predictions are random (when your network is not trained at all)?\n",
        "7. Don't forget to split the dataset in training and validation.\n",
        "\n",
        "\n"
      ]
    },
    {
      "cell_type": "markdown",
      "metadata": {
        "id": "noDnc4PEZnOk"
      },
      "source": [
        "## Hints\n",
        "1. It might prove useful to link your Google Drive to this Notebook. See the code cell below;\n",
        "2. You might want to think of ways of preprocessing your data (e.g. One Hot Encoding, etc.);\n",
        "3. Don't be afraid of using text cells to actually write your thoughts about the data/results. Might prove useful at the end of the semester when you'll need to walk us through your solution 😉.\n",
        "\n"
      ]
    },
    {
      "cell_type": "markdown",
      "metadata": {
        "id": "9Pjwrt_IZoeQ"
      },
      "source": [
        "## Deadline\n",
        "March 18, 2021, 23:59\n",
        "\n",
        "**Punctaj maxim:** 2 puncte.\n",
        "\n",
        "Depunctarea este de 0.25 puncte pe zi intarziata. Dupa mai mult de 4 zile intarziere, punctajul maxim care se poate obtine ramane 1 punct.\n",
        "\n",
        "Trimite notebookul si datasetul intr-o arhiva `NumePrenume_Grupa_Tema1.zip` aici: https://forms.gle/MGrLvehEjmtWmQZP7 (la sustinerea temei, vei rula codul din arhiva)."
      ]
    },
    {
      "cell_type": "code",
      "metadata": {
        "id": "_epOks2gzT3O",
        "colab": {
          "resources": {
            "http://localhost:8080/nbextensions/google.colab/files.js": {
              "data": "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",
              "ok": true,
              "headers": [
                [
                  "content-type",
                  "application/javascript"
                ]
              ],
              "status": 200,
              "status_text": "OK"
            }
          },
          "base_uri": "https://localhost:8080/",
          "height": 67
        },
        "cellView": "code",
        "outputId": "8ef358d2-4cff-437a-d327-0347b4353e36"
      },
      "source": [
        "#@title Default title text\n",
        "from google.colab import drive\n",
        "drive.mount('/content/gdrive')\n",
        "\n"
      ],
      "execution_count": 5,
      "outputs": [
        {
          "output_type": "stream",
          "text": [
            "Drive already mounted at /content/gdrive; to attempt to forcibly remount, call drive.mount(\"/content/gdrive\", force_remount=True).\n"
          ],
          "name": "stdout"
        },
        {
          "output_type": "display_data",
          "data": {
            "text/html": [
              "\n",
              "     <input type=\"file\" id=\"files-f5ed22cd-b008-457f-b0cc-e0d2b8ddea47\" name=\"files[]\" multiple disabled\n",
              "        style=\"border:none\" />\n",
              "     <output id=\"result-f5ed22cd-b008-457f-b0cc-e0d2b8ddea47\">\n",
              "      Upload widget is only available when the cell has been executed in the\n",
              "      current browser session. Please rerun this cell to enable.\n",
              "      </output>\n",
              "      <script src=\"/nbextensions/google.colab/files.js\"></script> "
            ],
            "text/plain": [
              "<IPython.core.display.HTML object>"
            ]
          },
          "metadata": {
            "tags": []
          }
        }
      ]
    },
    {
      "cell_type": "code",
      "metadata": {
        "colab": {
          "base_uri": "https://localhost:8080/"
        },
        "id": "TZc5Ha_4Mrau",
        "outputId": "97a9ef82-df23-4ea5-b4ee-91bac6600078"
      },
      "source": [
        "!pip install torchviz\n",
        "from functools import partial\n",
        "from IPython.display import HTML\n",
        "import math\n",
        "import matplotlib.pyplot as plt\n",
        "from matplotlib import animation, rc\n",
        "import numpy as np\n",
        "from sklearn.datasets import make_regression\n",
        "from sklearn.linear_model import LinearRegression\n",
        "import torch\n",
        "import torch.nn as nn\n",
        "import torch.nn.functional as F\n",
        "import torchviz\n",
        "from typing import Iterator"
      ],
      "execution_count": 1,
      "outputs": [
        {
          "output_type": "stream",
          "text": [
            "Collecting torchviz\n",
            "\u001b[?25l  Downloading https://files.pythonhosted.org/packages/8f/8e/a9630c7786b846d08b47714dd363a051f5e37b4ea0e534460d8cdfc1644b/torchviz-0.0.1.tar.gz (41kB)\n",
            "\r\u001b[K     |████████                        | 10kB 22.6MB/s eta 0:00:01\r\u001b[K     |████████████████                | 20kB 29.3MB/s eta 0:00:01\r\u001b[K     |███████████████████████▉        | 30kB 22.7MB/s eta 0:00:01\r\u001b[K     |███████████████████████████████▉| 40kB 21.1MB/s eta 0:00:01\r\u001b[K     |████████████████████████████████| 51kB 7.4MB/s \n",
            "\u001b[?25hRequirement already satisfied: torch in /usr/local/lib/python3.7/dist-packages (from torchviz) (1.7.1+cu101)\n",
            "Requirement already satisfied: graphviz in /usr/local/lib/python3.7/dist-packages (from torchviz) (0.10.1)\n",
            "Requirement already satisfied: numpy in /usr/local/lib/python3.7/dist-packages (from torch->torchviz) (1.19.5)\n",
            "Requirement already satisfied: typing-extensions in /usr/local/lib/python3.7/dist-packages (from torch->torchviz) (3.7.4.3)\n",
            "Building wheels for collected packages: torchviz\n",
            "  Building wheel for torchviz (setup.py) ... \u001b[?25l\u001b[?25hdone\n",
            "  Created wheel for torchviz: filename=torchviz-0.0.1-cp37-none-any.whl size=3520 sha256=780002808bbc3280be4df08e995f752e191267c3b44bff7145fa04258a3606fa\n",
            "  Stored in directory: /root/.cache/pip/wheels/2a/c2/c5/b8b4d0f7992c735f6db5bfa3c5f354cf36502037ca2b585667\n",
            "Successfully built torchviz\n",
            "Installing collected packages: torchviz\n",
            "Successfully installed torchviz-0.0.1\n"
          ],
          "name": "stdout"
        }
      ]
    },
    {
      "cell_type": "code",
      "metadata": {
        "id": "yz0Vv9CxM2yE"
      },
      "source": [
        "import pandas as pd\n",
        "import numpy as np\n",
        "import os\n",
        "from torch.utils.data import Dataset, DataLoader, RandomSampler, Sampler, Subset"
      ],
      "execution_count": 28,
      "outputs": []
    },
    {
      "cell_type": "code",
      "metadata": {
        "id": "xNpXrXA4N_6r"
      },
      "source": [
        "df = pd.read_csv(os.path.join(\"sample_data\",\"Bucharest_HousePriceDataset.csv\"))\n",
        "DATASET_PATH = os.path.join(\"sample_data\",\"Bucharest_HousePriceDataset.csv\")"
      ],
      "execution_count": 11,
      "outputs": []
    },
    {
      "cell_type": "code",
      "metadata": {
        "colab": {
          "base_uri": "https://localhost:8080/",
          "height": 206
        },
        "id": "T8ov2LphOCyN",
        "outputId": "cb6e8ceb-c6ff-413e-d2c2-f31324c08e76"
      },
      "source": [
        "df.head()"
      ],
      "execution_count": 6,
      "outputs": [
        {
          "output_type": "execute_result",
          "data": {
            "text/html": [
              "<div>\n",
              "<style scoped>\n",
              "    .dataframe tbody tr th:only-of-type {\n",
              "        vertical-align: middle;\n",
              "    }\n",
              "\n",
              "    .dataframe tbody tr th {\n",
              "        vertical-align: top;\n",
              "    }\n",
              "\n",
              "    .dataframe thead th {\n",
              "        text-align: right;\n",
              "    }\n",
              "</style>\n",
              "<table border=\"1\" class=\"dataframe\">\n",
              "  <thead>\n",
              "    <tr style=\"text-align: right;\">\n",
              "      <th></th>\n",
              "      <th>Nr Camere</th>\n",
              "      <th>Suprafata</th>\n",
              "      <th>Etaj</th>\n",
              "      <th>Total Etaje</th>\n",
              "      <th>Sector</th>\n",
              "      <th>Scor</th>\n",
              "      <th>Pret</th>\n",
              "    </tr>\n",
              "  </thead>\n",
              "  <tbody>\n",
              "    <tr>\n",
              "      <th>0</th>\n",
              "      <td>4</td>\n",
              "      <td>108.00</td>\n",
              "      <td>2</td>\n",
              "      <td>3</td>\n",
              "      <td>4</td>\n",
              "      <td>5</td>\n",
              "      <td>83000</td>\n",
              "    </tr>\n",
              "    <tr>\n",
              "      <th>1</th>\n",
              "      <td>1</td>\n",
              "      <td>41.00</td>\n",
              "      <td>1</td>\n",
              "      <td>8</td>\n",
              "      <td>1</td>\n",
              "      <td>1</td>\n",
              "      <td>39900</td>\n",
              "    </tr>\n",
              "    <tr>\n",
              "      <th>2</th>\n",
              "      <td>3</td>\n",
              "      <td>63.52</td>\n",
              "      <td>1</td>\n",
              "      <td>3</td>\n",
              "      <td>2</td>\n",
              "      <td>3</td>\n",
              "      <td>84900</td>\n",
              "    </tr>\n",
              "    <tr>\n",
              "      <th>3</th>\n",
              "      <td>1</td>\n",
              "      <td>33.00</td>\n",
              "      <td>3</td>\n",
              "      <td>10</td>\n",
              "      <td>5</td>\n",
              "      <td>1</td>\n",
              "      <td>45500</td>\n",
              "    </tr>\n",
              "    <tr>\n",
              "      <th>4</th>\n",
              "      <td>2</td>\n",
              "      <td>62.00</td>\n",
              "      <td>5</td>\n",
              "      <td>9</td>\n",
              "      <td>5</td>\n",
              "      <td>5</td>\n",
              "      <td>54900</td>\n",
              "    </tr>\n",
              "  </tbody>\n",
              "</table>\n",
              "</div>"
            ],
            "text/plain": [
              "   Nr Camere  Suprafata  Etaj  Total Etaje  Sector  Scor   Pret\n",
              "0          4     108.00     2            3       4     5  83000\n",
              "1          1      41.00     1            8       1     1  39900\n",
              "2          3      63.52     1            3       2     3  84900\n",
              "3          1      33.00     3           10       5     1  45500\n",
              "4          2      62.00     5            9       5     5  54900"
            ]
          },
          "metadata": {
            "tags": []
          },
          "execution_count": 6
        }
      ]
    },
    {
      "cell_type": "code",
      "metadata": {
        "id": "AnVq6sv1OE8T"
      },
      "source": [
        "class HousePrice_Dataset(Dataset):\n",
        "  def __init__(self, csv_path, target_feature):\n",
        "      \"\"\"\n",
        "      Args:\n",
        "          csv_file (string): Path to the csv file with annotations.\n",
        "          root_dir (string): Directory with all the images.\n",
        "          transform (callable, optional): Optional transform to be applied\n",
        "              on a sample.\n",
        "      \"\"\"\n",
        "      self.target_feature = target_feature \n",
        "      self.dataframe = pd.read_csv(csv_path)\n",
        "      self.data = self.dataframe.loc[:, self.dataframe.columns != self.target_feature]\n",
        "      self.labels = self.dataframe.loc[:, self.target_feature]\n",
        "      self.csv_path = csv_path \n",
        "\n",
        "  def __len__(self):\n",
        "      return len(self.dataframe)\n",
        "\n",
        "  def __getitem__(self, idx):\n",
        "      return df.iloc[idx]"
      ],
      "execution_count": 40,
      "outputs": []
    },
    {
      "cell_type": "code",
      "metadata": {
        "colab": {
          "base_uri": "https://localhost:8080/"
        },
        "id": "YWzKDh51PBM7",
        "outputId": "b8aad036-f772-423f-a8b4-29fff85d0d6f"
      },
      "source": [
        "\n",
        "target_feature = 'Nr Camere'\n",
        "hp_dataset = HousePrice_Dataset(DATASET_PATH, target_feature)\n",
        "features_list = hp_dataset.dataframe.columns.tolist()\n",
        "print(hp_dataset.dataframe.head())\n",
        "hp_dataset.dataframe.iloc[:][target_feature] -= 1 \n",
        "print(hp_dataset.dataframe.head())\n",
        "num_classes = max(hp_dataset.dataframe.iloc[:][target_feature]) + 2\n",
        "\n",
        "# RandomSampler retrieves elements randomly from list\n",
        "sampler = RandomSampler(hp_dataset)\n",
        "\n",
        "# instantiate DataLoader\n",
        "dataloader = DataLoader(hp_dataset, batch_size=32, sampler=sampler)\n",
        "from sklearn.model_selection import train_test_split\n",
        "def train_val_dataset(dataset, val_split=0.2):\n",
        "    train_idx, val_idx = train_test_split(list(range(len(dataset))), test_size=val_split)\n",
        "    datasets = {}\n",
        "    datasets['train'] = Subset(dataset, train_idx)\n",
        "    datasets['val'] = Subset(dataset, val_idx)\n",
        "    return datasets\n",
        "\n",
        "datasets_dict = train_val_dataset(hp_dataset)\n",
        "\n",
        "train_data = []\n",
        "train_labels = []\n",
        "for i in range(len(datasets_dict['train'])):\n",
        "    row = datasets_dict['train'][i]\n",
        "    train_data.append(np.array([row[feature] for feature in features_list if feature != target_feature]))\n",
        "    train_labels.append(datasets_dict['train'][i][target_feature])\n",
        "train_data = torch.FloatTensor(train_data)\n",
        "train_labels = torch.LongTensor(train_labels)\n",
        "print(train_data.shape, train_labels.shape)\n",
        "\n",
        "val_data = []\n",
        "val_labels = []\n",
        "for i in range(len(datasets_dict['val'])):\n",
        "    row = datasets_dict['val'][i]\n",
        "    val_data.append(np.array([row[feature] for feature in features_list if feature != target_feature]))\n",
        "    val_labels.append(datasets_dict['train'][i][target_feature])\n",
        "val_data = torch.FloatTensor(val_data)\n",
        "val_labels = torch.LongTensor(val_labels)\n",
        "print(val_data.shape, val_labels.shape)\n",
        "\n",
        "print(\"There are \" + str(num_classes) + \" classes in our dataset\")\n",
        "\n",
        "def plot_loss(loss: list, label: str, color: str = 'blue'):\n",
        "    \"\"\"Plot the evolution of the loss function\"\"\"\n",
        "    plt.plot(loss, label=label, color=color)\n",
        "    plt.legend()"
      ],
      "execution_count": 137,
      "outputs": [
        {
          "output_type": "stream",
          "text": [
            "   Nr Camere  Suprafata  Etaj  Total Etaje  Sector  Scor   Pret\n",
            "0          4     108.00     2            3       4     5  83000\n",
            "1          1      41.00     1            8       1     1  39900\n",
            "2          3      63.52     1            3       2     3  84900\n",
            "3          1      33.00     3           10       5     1  45500\n",
            "4          2      62.00     5            9       5     5  54900\n",
            "   Nr Camere  Suprafata  Etaj  Total Etaje  Sector  Scor   Pret\n",
            "0          3     108.00     2            3       4     5  83000\n",
            "1          0      41.00     1            8       1     1  39900\n",
            "2          2      63.52     1            3       2     3  84900\n",
            "3          0      33.00     3           10       5     1  45500\n",
            "4          1      62.00     5            9       5     5  54900\n",
            "torch.Size([2823, 6]) torch.Size([2823])\n",
            "torch.Size([706, 6]) torch.Size([706])\n",
            "There are 10 classes in our dataset\n"
          ],
          "name": "stdout"
        }
      ]
    },
    {
      "cell_type": "code",
      "metadata": {
        "colab": {
          "base_uri": "https://localhost:8080/",
          "height": 994
        },
        "id": "F0LKMbIJPl09",
        "outputId": "8bf9268f-a93e-46b9-8b50-eab2949fabde"
      },
      "source": [
        "# classification on NrCamere approach\n",
        "class ClassifNN(nn.Module):\n",
        "    def __init__(self, \n",
        "                 input_size: int, \n",
        "                 hidden_size: int, \n",
        "                 output_size: int,\n",
        "                 hidden_activation_fn = nn.ReLU()):\n",
        "        # Initialise the base class (nn.Module)\n",
        "        super().__init__()\n",
        "\n",
        "        # As stated above, we'll simply use `torch.nn.Linear` to define our 2 layers\n",
        "        self._layer1 = nn.Linear(input_size, hidden_size)\n",
        "        self._layer2 = nn.Linear(hidden_size, hidden_size)\n",
        "        self._layer3 = nn.Linear(hidden_size, output_size)\n",
        "\n",
        "        self._hidden_activation = hidden_activation_fn\n",
        "   \n",
        "    def forward(self, x):\n",
        "        # Layer 1 using ReLU as activation\n",
        "        h1 = self._hidden_activation(self._layer1(x))\n",
        "\n",
        "        h2 = self._hidden_activation(self._layer2(h1))\n",
        "        # Because we will use CrossEntropy as our loss, we don't need a\n",
        "        # a softmax activation function after layer 2\n",
        "        out = self._layer3(h2)\n",
        "        \n",
        "        return out\n",
        "\n",
        "# Finally, train the network and plot the decision boundaries\n",
        "model_classifier = ClassifNN(6, 10, num_classes)\n",
        "\n",
        "NUM_EPOCHS = 200\n",
        "PRINT_EVERY = 10\n",
        "\n",
        "train_loss = []\n",
        "val_loss = [] # This time we will track the loss on val_data\n",
        "\n",
        "learning_rate = 1e-1\n",
        "optim = torch.optim.Adam(model.parameters(), lr=learning_rate)\n",
        "criterion = nn.CrossEntropyLoss()\n",
        "\n",
        "for i in range(NUM_EPOCHS):\n",
        "    # Set the model to train mode and reset the gradients\n",
        "    model_classifier.train()\n",
        "    optim.zero_grad()\n",
        "\n",
        "    output = model_classifier(train_data)\n",
        "\n",
        "    loss = criterion(output, train_labels)\n",
        "    \n",
        "    loss.backward()\n",
        "    optim.step()\n",
        "    \n",
        "    train_loss.append(loss.detach().numpy())\n",
        "\n",
        "    if i % PRINT_EVERY == 0 or i == NUM_EPOCHS - 1:\n",
        "        print(f'EPOCH {i}:')\n",
        "        print(f'loss = {loss.item()}')\n",
        "  \n",
        "    # Every epoch, let's evaluate our model on the validation data and plot both losses at the end\n",
        "    model_classifier.eval() # set the model to evaluation mode\n",
        "    with torch.no_grad():\n",
        "        output = model_classifier(val_data)\n",
        "        validation_loss = F.cross_entropy(output, val_labels)\n",
        "        val_loss.append(validation_loss)\n",
        "\n",
        "plot_loss(train_loss, 'train-loss')\n",
        "plot_loss(val_loss, 'val-loss', color='green')\n"
      ],
      "execution_count": 148,
      "outputs": [
        {
          "output_type": "stream",
          "text": [
            "EPOCH 0:\n",
            "loss = 10231.103515625\n",
            "EPOCH 10:\n",
            "loss = 1.4596229791641235\n",
            "EPOCH 20:\n",
            "loss = 1.2839057445526123\n",
            "EPOCH 30:\n",
            "loss = 1.280558466911316\n",
            "EPOCH 40:\n",
            "loss = 1.2546221017837524\n",
            "EPOCH 50:\n",
            "loss = 1.255977749824524\n",
            "EPOCH 60:\n",
            "loss = 1.254025936126709\n",
            "EPOCH 70:\n",
            "loss = 1.2539249658584595\n",
            "EPOCH 80:\n",
            "loss = 1.2535511255264282\n",
            "EPOCH 90:\n",
            "loss = 1.2535364627838135\n",
            "EPOCH 100:\n",
            "loss = 1.2534550428390503\n",
            "EPOCH 110:\n",
            "loss = 1.253432273864746\n",
            "EPOCH 120:\n",
            "loss = 1.2534586191177368\n",
            "EPOCH 130:\n",
            "loss = 1.2534228563308716\n",
            "EPOCH 140:\n",
            "loss = 1.253373146057129\n",
            "EPOCH 150:\n",
            "loss = 1.2533622980117798\n",
            "EPOCH 160:\n",
            "loss = 1.2533541917800903\n",
            "EPOCH 170:\n",
            "loss = 1.2533706426620483\n",
            "EPOCH 180:\n",
            "loss = 1.253349781036377\n",
            "EPOCH 190:\n",
            "loss = 1.253324270248413\n",
            "EPOCH 199:\n",
            "loss = 1.2533247470855713\n"
          ],
          "name": "stdout"
        },
        {
          "output_type": "display_data",
          "data": {
            "image/png": "[encoded data removed]",
            "text/plain": [
              "<Figure size 432x288 with 1 Axes>"
            ]
          },
          "metadata": {
            "tags": [],
            "needs_background": "light"
          }
        }
      ]
    },
    {
      "cell_type": "code",
      "metadata": {
        "colab": {
          "base_uri": "https://localhost:8080/"
        },
        "id": "7Yvg_EuRetVp",
        "outputId": "bc23127f-94a5-4a69-9bed-fa6631c37a0f"
      },
      "source": [
        "target_feature = 'Nr Camere'\n",
        "hp_dataset = HousePrice_Dataset(DATASET_PATH, target_feature)\n",
        "features_list = hp_dataset.dataframe.columns.tolist()\n",
        "\n",
        "\n",
        "# RandomSampler retrieves elements randomly from list\n",
        "sampler = RandomSampler(hp_dataset)\n",
        "\n",
        "# instantiate DataLoader\n",
        "dataloader = DataLoader(hp_dataset, batch_size=32, sampler=sampler)\n",
        "from sklearn.model_selection import train_test_split\n",
        "def train_val_dataset(dataset, val_split=0.2):\n",
        "    train_idx, val_idx = train_test_split(list(range(len(dataset))), test_size=val_split)\n",
        "    datasets = {}\n",
        "    datasets['train'] = Subset(dataset, train_idx)\n",
        "    datasets['val'] = Subset(dataset, val_idx)\n",
        "    return datasets\n",
        "\n",
        "datasets_dict = train_val_dataset(hp_dataset)\n",
        "\n",
        "train_data = []\n",
        "train_labels = []\n",
        "for i in range(len(datasets_dict['train'])):\n",
        "    row = datasets_dict['train'][i]\n",
        "    train_data.append(np.array([row[feature] for feature in features_list if feature != target_feature]))\n",
        "    train_labels.append(datasets_dict['train'][i][target_feature])\n",
        "train_data = torch.FloatTensor(train_data)\n",
        "train_labels = torch.FloatTensor(train_labels)\n",
        "print(train_data.shape, train_labels.shape)\n",
        "\n",
        "val_data = []\n",
        "val_labels = []\n",
        "for i in range(len(datasets_dict['val'])):\n",
        "    row = datasets_dict['val'][i]\n",
        "    val_data.append(np.array([row[feature] for feature in features_list if feature != target_feature]))\n",
        "    val_labels.append(datasets_dict['train'][i][target_feature])\n",
        "val_data = torch.FloatTensor(val_data)\n",
        "val_labels = torch.FloatTensor(val_labels)\n",
        "print(val_data.shape, val_labels.shape)\n",
        "\n",
        "\n",
        "def plot_loss(loss: list, label: str, color: str = 'blue'):\n",
        "    \"\"\"Plot the evolution of the loss function\"\"\"\n",
        "    plt.plot(loss, label=label, color=color)\n",
        "    plt.legend()"
      ],
      "execution_count": 174,
      "outputs": [
        {
          "output_type": "stream",
          "text": [
            "torch.Size([2823, 6]) torch.Size([2823])\n",
            "torch.Size([706, 6]) torch.Size([706])\n"
          ],
          "name": "stdout"
        }
      ]
    },
    {
      "cell_type": "code",
      "metadata": {
        "colab": {
          "base_uri": "https://localhost:8080/",
          "height": 1000
        },
        "id": "N_7p_ot0Ptnq",
        "outputId": "5bfbee4c-039b-4301-df82-bc731554c901"
      },
      "source": [
        "# regression on NrCamere approach\n",
        "class RegressNN(nn.Module):\n",
        "    def __init__(self, \n",
        "                 input_size: int, \n",
        "                 hidden_size: int, \n",
        "                 output_size: int,\n",
        "                 hidden_activation_fn = nn.ReLU()):\n",
        "        # Initialise the base class (nn.Module)\n",
        "        super().__init__()\n",
        "\n",
        "        # As stated above, we'll simply use `torch.nn.Linear` to define our 2 layers\n",
        "        self._layer1 = nn.Linear(input_size, hidden_size)\n",
        "        self._layer2 = nn.Linear(hidden_size, hidden_size)\n",
        "        self._layer3 = nn.Linear(hidden_size, output_size)\n",
        "\n",
        "        self._hidden_activation = hidden_activation_fn\n",
        "   \n",
        "    def forward(self, x):\n",
        "        # Layer 1 using ReLU as activation\n",
        "        h1 = self._hidden_activation(self._layer1(x))\n",
        "\n",
        "        h2 = self._hidden_activation(self._layer2(h1))\n",
        "        # Because we will use CrossEntropy as our loss, we don't need a\n",
        "        # a softmax activation function after layer 2\n",
        "        out = self._layer3(h2)\n",
        "        \n",
        "        return out\n",
        "\n",
        "# Finally, train the network and plot the decision boundaries\n",
        "model_regressor = RegressNN(6, 10, 1)\n",
        "\n",
        "NUM_EPOCHS = 200\n",
        "PRINT_EVERY = 10\n",
        "\n",
        "train_loss = []\n",
        "val_loss = [] # This time we will track the loss on val_data\n",
        "\n",
        "learning_rate = 1e-1\n",
        "optim = torch.optim.RMSprop(model.parameters(), lr=learning_rate)\n",
        "criterion = nn.MSELoss()\n",
        "\n",
        "for i in range(NUM_EPOCHS):\n",
        "    # Set the model to train mode and reset the gradients\n",
        "    model_regressor.train()\n",
        "    optim.zero_grad()\n",
        "\n",
        "    output = model_regressor(train_data)\n",
        "\n",
        "    loss = criterion(output, train_labels)\n",
        "    \n",
        "    loss.backward()\n",
        "    optim.step()\n",
        "    \n",
        "    train_loss.append(loss.detach().numpy())\n",
        "\n",
        "    if i % PRINT_EVERY == 0 or i == NUM_EPOCHS - 1:\n",
        "        print(f'EPOCH {i}:')\n",
        "        print(f'loss = {loss.item()}')\n",
        "  \n",
        "    # Every epoch, let's evaluate our model on the validation data and plot both losses at the end\n",
        "    model_regressor.eval() # set the model to evaluation mode\n",
        "    with torch.no_grad():\n",
        "        output = model_regressor(val_data)\n",
        "        validation_loss = F.mse_loss(output, val_labels)\n",
        "        val_loss.append(validation_loss)\n",
        "\n",
        "plot_loss(train_loss, 'train-loss')\n",
        "plot_loss(val_loss, 'val-loss', color='green')\n",
        "\n",
        "\n"
      ],
      "execution_count": 176,
      "outputs": [
        {
          "output_type": "stream",
          "text": [
            "/usr/local/lib/python3.7/dist-packages/torch/nn/modules/loss.py:446: UserWarning: Using a target size (torch.Size([2823])) that is different to the input size (torch.Size([2823, 1])). This will likely lead to incorrect results due to broadcasting. Please ensure they have the same size.\n",
            "  return F.mse_loss(input, target, reduction=self.reduction)\n",
            "/usr/local/lib/python3.7/dist-packages/ipykernel_launcher.py:64: UserWarning: Using a target size (torch.Size([706])) that is different to the input size (torch.Size([706, 1])). This will likely lead to incorrect results due to broadcasting. Please ensure they have the same size.\n"
          ],
          "name": "stderr"
        },
        {
          "output_type": "stream",
          "text": [
            "EPOCH 0:\n",
            "loss = 23716572.0\n",
            "EPOCH 10:\n",
            "loss = 23716572.0\n",
            "EPOCH 20:\n",
            "loss = 23716572.0\n",
            "EPOCH 30:\n",
            "loss = 23716572.0\n",
            "EPOCH 40:\n",
            "loss = 23716572.0\n",
            "EPOCH 50:\n",
            "loss = 23716572.0\n",
            "EPOCH 60:\n",
            "loss = 23716572.0\n",
            "EPOCH 70:\n",
            "loss = 23716572.0\n",
            "EPOCH 80:\n",
            "loss = 23716572.0\n",
            "EPOCH 90:\n",
            "loss = 23716572.0\n",
            "EPOCH 100:\n",
            "loss = 23716572.0\n",
            "EPOCH 110:\n",
            "loss = 23716572.0\n",
            "EPOCH 120:\n",
            "loss = 23716572.0\n",
            "EPOCH 130:\n",
            "loss = 23716572.0\n",
            "EPOCH 140:\n",
            "loss = 23716572.0\n",
            "EPOCH 150:\n",
            "loss = 23716572.0\n",
            "EPOCH 160:\n",
            "loss = 23716572.0\n",
            "EPOCH 170:\n",
            "loss = 23716572.0\n",
            "EPOCH 180:\n",
            "loss = 23716572.0\n",
            "EPOCH 190:\n",
            "loss = 23716572.0\n",
            "EPOCH 199:\n",
            "loss = 23716572.0\n"
          ],
          "name": "stdout"
        },
        {
          "output_type": "display_data",
          "data": {
            "image/png": "[encoded data removed]",
            "text/plain": [
              "<Figure size 432x288 with 1 Axes>"
            ]
          },
          "metadata": {
            "tags": [],
            "needs_background": "light"
          }
        }
      ]
    },
    {
      "cell_type": "code",
      "metadata": {
        "id": "zZptdTfDe5P4"
      },
      "source": [
        ""
      ],
      "execution_count": 162,
      "outputs": []
    },
    {
      "cell_type": "code",
      "metadata": {
        "id": "5C9Mr8U8PumR"
      },
      "source": [
        "# approach comparison \n",
        "# metrics: confusion matrix, mse, mae, rmse, mape, \n",
        "\n"
      ],
      "execution_count": 163,
      "outputs": []
    },
    {
      "cell_type": "code",
      "metadata": {
        "colab": {
          "base_uri": "https://localhost:8080/"
        },
        "id": "V2PJyOw8P_BJ",
        "outputId": "27dbad7a-0579-491f-d30d-29d0a73bf727"
      },
      "source": [
        "# regression on Pret approach\n",
        "target_feature = 'Pret'\n",
        "hp_dataset = HousePrice_Dataset(DATASET_PATH, target_feature)\n",
        "features_list = hp_dataset.dataframe.columns.tolist()\n",
        "\n",
        "# RandomSampler retrieves elements randomly from list\n",
        "sampler = RandomSampler(hp_dataset)\n",
        "\n",
        "# instantiate DataLoader\n",
        "dataloader = DataLoader(hp_dataset, batch_size=32, sampler=sampler)\n",
        "from sklearn.model_selection import train_test_split\n",
        "def train_val_dataset(dataset, val_split=0.2):\n",
        "    train_idx, val_idx = train_test_split(list(range(len(dataset))), test_size=val_split)\n",
        "    datasets = {}\n",
        "    datasets['train'] = Subset(dataset, train_idx)\n",
        "    datasets['val'] = Subset(dataset, val_idx)\n",
        "    return datasets\n",
        "\n",
        "datasets_dict = train_val_dataset(hp_dataset)\n",
        "\n",
        "train_data = []\n",
        "train_labels = []\n",
        "for i in range(len(datasets_dict['train'])):\n",
        "    row = datasets_dict['train'][i]\n",
        "    train_data.append(np.array([row[feature] for feature in features_list if feature != target_feature]))\n",
        "    train_labels.append(datasets_dict['train'][i][target_feature])\n",
        "train_data = torch.FloatTensor(train_data)\n",
        "train_labels = torch.FloatTensor(train_labels)\n",
        "print(train_data.shape, train_labels.shape)\n",
        "\n",
        "val_data = []\n",
        "val_labels = []\n",
        "for i in range(len(datasets_dict['val'])):\n",
        "    row = datasets_dict['val'][i]\n",
        "    val_data.append(np.array([row[feature] for feature in features_list if feature != target_feature]))\n",
        "    val_labels.append(datasets_dict['train'][i][target_feature])\n",
        "val_data = torch.FloatTensor(val_data)\n",
        "val_labels = torch.FloatTensor(val_labels)\n",
        "print(val_data.shape, val_labels.shape)\n",
        "\n",
        "\n",
        "def plot_loss(loss: list, label: str, color: str = 'blue'):\n",
        "    \"\"\"Plot the evolution of the loss function\"\"\"\n",
        "    plt.plot(loss, label=label, color=color)\n",
        "    plt.legend()"
      ],
      "execution_count": 181,
      "outputs": [
        {
          "output_type": "stream",
          "text": [
            "torch.Size([2823, 6]) torch.Size([2823])\n",
            "torch.Size([706, 6]) torch.Size([706])\n"
          ],
          "name": "stdout"
        }
      ]
    },
    {
      "cell_type": "code",
      "metadata": {
        "colab": {
          "base_uri": "https://localhost:8080/",
          "height": 994
        },
        "id": "CKTu7_a7i1xj",
        "outputId": "c1d7c4dc-db44-4bb8-96c2-f4970281e64d"
      },
      "source": [
        "# regression on Pret approach\n",
        "class RegressNN(nn.Module):\n",
        "    def __init__(self, \n",
        "                 input_size: int, \n",
        "                 hidden_size: int, \n",
        "                 output_size: int,\n",
        "                 hidden_activation_fn = nn.ReLU()):\n",
        "        # Initialise the base class (nn.Module)\n",
        "        super().__init__()\n",
        "\n",
        "        # As stated above, we'll simply use `torch.nn.Linear` to define our 2 layers\n",
        "        self._layer1 = nn.Linear(input_size, hidden_size)\n",
        "        self._layer2 = nn.Linear(hidden_size, hidden_size)\n",
        "        self._layer3 = nn.Linear(hidden_size, output_size)\n",
        "\n",
        "        self._hidden_activation = hidden_activation_fn\n",
        "   \n",
        "    def forward(self, x):\n",
        "        # Layer 1 using ReLU as activation\n",
        "        h1 = self._hidden_activation(self._layer1(x))\n",
        "\n",
        "        h2 = self._hidden_activation(self._layer2(h1))\n",
        "        # Because we will use CrossEntropy as our loss, we don't need a\n",
        "        # a softmax activation function after layer 2\n",
        "        out = self._layer3(h2)\n",
        "        \n",
        "        return out\n",
        "\n",
        "# Finally, train the network and plot the decision boundaries\n",
        "model_regressor = RegressNN(6, 10, 1)\n",
        "\n",
        "NUM_EPOCHS = 200\n",
        "PRINT_EVERY = 10\n",
        "\n",
        "train_loss = []\n",
        "val_loss = [] # This time we will track the loss on val_data\n",
        "\n",
        "learning_rate = 1e-1\n",
        "optim = torch.optim.RMSprop(model.parameters(), lr=learning_rate)\n",
        "criterion = nn.HingeEmbeddingLoss()\n",
        "\n",
        "for i in range(NUM_EPOCHS):\n",
        "    # Set the model to train mode and reset the gradients\n",
        "    model_regressor.train()\n",
        "    optim.zero_grad()\n",
        "\n",
        "    output = model_regressor(train_data)\n",
        "\n",
        "    loss = criterion(output, train_labels)\n",
        "    \n",
        "    loss.backward()\n",
        "    optim.step()\n",
        "    \n",
        "    train_loss.append(loss.detach().numpy())\n",
        "\n",
        "    if i % PRINT_EVERY == 0 or i == NUM_EPOCHS - 1:\n",
        "        print(f'EPOCH {i}:')\n",
        "        print(f'loss = {loss.item()}')\n",
        "  \n",
        "    # Every epoch, let's evaluate our model on the validation data and plot both losses at the end\n",
        "    model_regressor.eval() # set the model to evaluation mode\n",
        "    with torch.no_grad():\n",
        "        output = model_regressor(val_data)\n",
        "        validation_loss = F.hinge_embedding_loss(output, val_labels)\n",
        "        val_loss.append(validation_loss)\n",
        "\n",
        "plot_loss(train_loss, 'train-loss')\n",
        "plot_loss(val_loss, 'val-loss', color='green')\n"
      ],
      "execution_count": 183,
      "outputs": [
        {
          "output_type": "stream",
          "text": [
            "EPOCH 0:\n",
            "loss = 2.6083202362060547\n",
            "EPOCH 10:\n",
            "loss = 2.6083202362060547\n",
            "EPOCH 20:\n",
            "loss = 2.6083202362060547\n",
            "EPOCH 30:\n",
            "loss = 2.6083202362060547\n",
            "EPOCH 40:\n",
            "loss = 2.6083202362060547\n",
            "EPOCH 50:\n",
            "loss = 2.6083202362060547\n",
            "EPOCH 60:\n",
            "loss = 2.6083202362060547\n",
            "EPOCH 70:\n",
            "loss = 2.6083202362060547\n",
            "EPOCH 80:\n",
            "loss = 2.6083202362060547\n",
            "EPOCH 90:\n",
            "loss = 2.6083202362060547\n",
            "EPOCH 100:\n",
            "loss = 2.6083202362060547\n",
            "EPOCH 110:\n",
            "loss = 2.6083202362060547\n",
            "EPOCH 120:\n",
            "loss = 2.6083202362060547\n",
            "EPOCH 130:\n",
            "loss = 2.6083202362060547\n",
            "EPOCH 140:\n",
            "loss = 2.6083202362060547\n",
            "EPOCH 150:\n",
            "loss = 2.6083202362060547\n",
            "EPOCH 160:\n",
            "loss = 2.6083202362060547\n",
            "EPOCH 170:\n",
            "loss = 2.6083202362060547\n",
            "EPOCH 180:\n",
            "loss = 2.6083202362060547\n",
            "EPOCH 190:\n",
            "loss = 2.6083202362060547\n",
            "EPOCH 199:\n",
            "loss = 2.6083202362060547\n"
          ],
          "name": "stdout"
        },
        {
          "output_type": "display_data",
          "data": {
            "image/png": "[encoded data removed]",
            "text/plain": [
              "<Figure size 432x288 with 1 Axes>"
            ]
          },
          "metadata": {
            "tags": [],
            "needs_background": "light"
          }
        }
      ]
    },
    {
      "cell_type": "code",
      "metadata": {
        "id": "ijRVYXOXi_c4"
      },
      "source": [
        ""
      ],
      "execution_count": null,
      "outputs": []
    }
  ]
}